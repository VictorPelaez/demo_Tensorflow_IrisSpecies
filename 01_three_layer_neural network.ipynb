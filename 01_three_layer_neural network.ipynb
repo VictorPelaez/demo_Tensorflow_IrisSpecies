{
 "cells": [
  {
   "cell_type": "markdown",
   "metadata": {},
   "source": [
    "# 01. TensorFlow Tutorial \n"
   ]
  },
  {
   "cell_type": "code",
   "execution_count": 1,
   "metadata": {
    "collapsed": true
   },
   "outputs": [],
   "source": [
    "import tensorflow as tf\n",
    "from tensorflow.python.framework import ops\n",
    "\n",
    "import numpy as np\n",
    "import pandas as pd\n",
    "\n",
    "from sklearn.model_selection import train_test_split\n",
    "from sklearn.preprocessing import PolynomialFeatures\n",
    "import sklearn\n",
    "import matplotlib.pyplot as plt\n",
    "import seaborn as sns\n",
    "%matplotlib inline"
   ]
  },
  {
   "cell_type": "markdown",
   "metadata": {},
   "source": [
    "## Read data "
   ]
  },
  {
   "cell_type": "code",
   "execution_count": 2,
   "metadata": {},
   "outputs": [
    {
     "name": "stdout",
     "output_type": "stream",
     "text": [
      "Iris-setosa  is replaced to 0\n",
      "Iris-versicolor  is replaced to 1\n",
      "Iris-virginica  is replaced to 2\n"
     ]
    }
   ],
   "source": [
    "iris = pd.read_csv(\"data/Iris.csv\")\n",
    "iris.drop('Id',axis=1,inplace=True) # unecessary col\n",
    "\n",
    "def convert2num(df, col):\n",
    "    for idx, val in enumerate(df[col].unique()):\n",
    "        print(val, ' is replaced to', idx)\n",
    "        df[col] = df[col].replace(val, idx)\n",
    "    return df\n",
    "\n",
    "iris = convert2num(iris, 'Species')"
   ]
  },
  {
   "cell_type": "code",
   "execution_count": 3,
   "metadata": {
    "collapsed": true
   },
   "outputs": [],
   "source": [
    "def one_hot_matrix(labels, C):\n",
    "    \"\"\"\n",
    "    Creates a matrix where the i-th row corresponds to the ith class number and the jth column\n",
    "                     corresponds to the jth training example. So if example j had a label i. Then entry (i,j) will be 1.                \n",
    "    Arguments:\n",
    "        labels -- vector containing the labels \n",
    "        C -- number of classes, the depth of the one hot dimension\n",
    "    Returns: \n",
    "        one_hot -- one hot matrix\n",
    "    \"\"\"\n",
    "    \n",
    "    C = tf.constant(C, name = \"C\")\n",
    "    one_hot_matrix = tf.one_hot(labels, C, axis=0)    \n",
    "    with tf.Session() as sess: \n",
    "        one_hot = sess.run(one_hot_matrix)\n",
    "\n",
    "    return one_hot"
   ]
  },
  {
   "cell_type": "code",
   "execution_count": 4,
   "metadata": {},
   "outputs": [
    {
     "name": "stdout",
     "output_type": "stream",
     "text": [
      "Shape of:\n",
      "- Training-set:\t\t(4, 105)\n",
      "- Test-set:\t\t(4, 45)\n"
     ]
    }
   ],
   "source": [
    "train, test = train_test_split(iris, test_size = 0.3) # split into train and test\n",
    "X_train = train[['SepalLengthCm','SepalWidthCm','PetalLengthCm','PetalWidthCm']] # training data features\n",
    "Y_train=train.Species # target of training data\n",
    "X_test= test[['SepalLengthCm','SepalWidthCm','PetalLengthCm','PetalWidthCm']] # test data features\n",
    "Y_test =test.Species   # target of test data\n",
    "\n",
    "X_train = np.array(X_train, dtype=np.float32).T\n",
    "Y_train = one_hot_matrix(np.array(Y_train,dtype=np.float32), C = 3)\n",
    "X_test = np.array(X_test,dtype=np.float32).T\n",
    "Y_test = one_hot_matrix(np.array(Y_test,dtype=np.float32), C = 3)\n",
    "\n",
    "m_train = X_train.shape\n",
    "m_test = X_test.shape\n",
    "\n",
    "print(\"Shape of:\")\n",
    "print(\"- Training-set:\\t\\t{}\".format(m_train))\n",
    "print(\"- Test-set:\\t\\t{}\".format(m_test))"
   ]
  },
  {
   "cell_type": "markdown",
   "metadata": {},
   "source": [
    "## 2.1 - Create placeholders"
   ]
  },
  {
   "cell_type": "markdown",
   "metadata": {},
   "source": [
    "Create placeholders for X and Y. This will allow you to later pass your training data in when you run your session."
   ]
  },
  {
   "cell_type": "code",
   "execution_count": 5,
   "metadata": {
    "collapsed": true
   },
   "outputs": [],
   "source": [
    "def create_placeholders(n_x, n_y):\n",
    "    \"\"\"\n",
    "    Creates the placeholders for the tensorflow session.\n",
    "    \n",
    "    Arguments:\n",
    "        n_x -- scalar, size vector \n",
    "        n_y -- scalar, number of classes (ex 0 to 5, so -> 6)\n",
    "    \n",
    "    Returns:\n",
    "        X -- placeholder for the data input, of shape [n_x, None] and dtype \"float\"\n",
    "        Y -- placeholder for the input labels, of shape [n_y, None] and dtype \"float\"\n",
    "    \"\"\"\n",
    "    \n",
    "    X = tf.placeholder(tf.float32, shape=(n_x, None))\n",
    "    Y = tf.placeholder(tf.float32, shape=(n_y, None))   \n",
    "    return X, Y"
   ]
  },
  {
   "cell_type": "code",
   "execution_count": 6,
   "metadata": {
    "collapsed": true
   },
   "outputs": [],
   "source": [
    "def initialize_parameters(n_x, n_y, hidden_neurons):\n",
    "    \"\"\"\n",
    "    Initializes parameters to build a neural network with tensorflow\n",
    "    Returns:\n",
    "        parameters -- a dictionary of tensors containing W1, b1, W2, b2, W3, b3\n",
    "    \"\"\"\n",
    "    hn1 = hidden_neurons[0]\n",
    "    hn2 = hidden_neurons[1]\n",
    "    tf.set_random_seed(1)   \n",
    "        \n",
    "    W1 = tf.get_variable(\"W1\", [hn1, n_x], initializer = tf.contrib.layers.xavier_initializer(seed = 1))\n",
    "    b1 = tf.get_variable(\"b1\", [hn1,1], initializer = tf.zeros_initializer())\n",
    "    W2 = tf.get_variable(\"W2\", [hn2,hn1], initializer = tf.contrib.layers.xavier_initializer(seed = 1))\n",
    "    b2 = tf.get_variable(\"b2\", [hn2,1], initializer = tf.zeros_initializer())\n",
    "    W3 = tf.get_variable(\"W3\", [n_y,hn2], initializer = tf.contrib.layers.xavier_initializer(seed = 1))\n",
    "    b3 = tf.get_variable(\"b3\", [n_y,1], initializer = tf.zeros_initializer())\n",
    "\n",
    "    parameters = {\"W1\": W1,\n",
    "                  \"b1\": b1,\n",
    "                  \"W2\": W2,\n",
    "                  \"b2\": b2,\n",
    "                  \"W3\": W3,\n",
    "                  \"b3\": b3}\n",
    "    \n",
    "    return parameters"
   ]
  },
  {
   "cell_type": "markdown",
   "metadata": {},
   "source": [
    "## 2.3 - Forward propagation in tensorflow"
   ]
  },
  {
   "cell_type": "code",
   "execution_count": 7,
   "metadata": {
    "collapsed": true
   },
   "outputs": [],
   "source": [
    "def forward_propagation(X, parameters, pkeep=1):\n",
    "    \"\"\"\n",
    "    Implements the forward propagation for the model: LINEAR -> RELU -> LINEAR -> RELU -> LINEAR -> SOFTMAX\n",
    "    \n",
    "    Arguments:\n",
    "        X -- input dataset placeholder, of shape (input size, number of examples)\n",
    "        parameters -- python dictionary containing your parameters \"W1\", \"b1\", \"W2\", \"b2\", \"W3\", \"b3\"\n",
    "                      the shapes are given in initialize_parameters\n",
    "    Returns:\n",
    "        Z3 -- the output of the last LINEAR unit\n",
    "    \"\"\"\n",
    "    \n",
    "    # Retrieve the parameters from the dictionary \"parameters\" \n",
    "    W1 = parameters['W1']\n",
    "    b1 = parameters['b1']\n",
    "    W2 = parameters['W2']\n",
    "    b2 = parameters['b2']\n",
    "    W3 = parameters['W3']\n",
    "    b3 = parameters['b3']\n",
    "    \n",
    "    Z1 = tf.add(tf.matmul(W1, X),b1)            # Z1 = np.dot(W1, X) + b1\n",
    "    A1 = tf.nn.relu(Z1)                         # A1 = relu(Z1)\n",
    "    Z2 = tf.add(tf.matmul(W2, A1),b2)           # Z2 = np.dot(W2, a1) + b2\n",
    "    A2 = tf.nn.relu(Z2)                         # A2 = relu(Z2)\n",
    "    A2 = tf.nn.dropout(A2, pkeep)\n",
    "    Z3 = tf.add(tf.matmul(W3, A2),b3)           # Z3 = np.dot(W3,Z2) + b3\n",
    "    \n",
    "    return Z3"
   ]
  },
  {
   "cell_type": "markdown",
   "metadata": {},
   "source": [
    "## 2.4 Compute cost"
   ]
  },
  {
   "cell_type": "code",
   "execution_count": 8,
   "metadata": {
    "collapsed": true
   },
   "outputs": [],
   "source": [
    "def compute_cost(Z3, Y):\n",
    "    \"\"\"\n",
    "    Computes the cost    \n",
    "    Arguments:\n",
    "        Z3 -- output of forward propagation (output of the last LINEAR unit), of shape (6, number of examples)\n",
    "        Y -- \"true\" labels vector placeholder, same shape as Z3\n",
    "    Returns:\n",
    "        cost - Tensor of the cost function\n",
    "    \"\"\"\n",
    "    \n",
    "    # to fit the tensorflow requirement for tf.nn.softmax_cross_entropy_with_logits(...,...)\n",
    "    logits = tf.transpose(Z3)\n",
    "    labels = tf.transpose(Y)   \n",
    "    cost = tf.reduce_mean(tf.nn.softmax_cross_entropy_with_logits(logits=logits, labels=labels))    \n",
    "    return cost"
   ]
  },
  {
   "cell_type": "markdown",
   "metadata": {},
   "source": [
    "## 2.5 - Backward propagation & parameter updates"
   ]
  },
  {
   "cell_type": "markdown",
   "metadata": {},
   "source": [
    "Backpropagation: Define the tensorflow optimizer. Use an AdamOptimizer with tf.train.GradientDescentOptimizer()"
   ]
  },
  {
   "cell_type": "markdown",
   "metadata": {},
   "source": [
    "## 2.6 - Building the model"
   ]
  },
  {
   "cell_type": "code",
   "execution_count": 9,
   "metadata": {
    "collapsed": true
   },
   "outputs": [],
   "source": [
    "def plotting(costs, learning_rate):\n",
    "    plt.plot(np.squeeze(costs))\n",
    "    plt.xlabel('iterations (per tens)')\n",
    "    plt.ylabel('Cost')\n",
    "    plt.title(\"Learning rate =\" + str(learning_rate))\n",
    "    plt.show()"
   ]
  },
  {
   "cell_type": "code",
   "execution_count": 13,
   "metadata": {
    "collapsed": true
   },
   "outputs": [],
   "source": [
    "def model(X_train, Y_train, X_test, Y_test, hidden_neurons=[25,12], learning_rate = 0.0001,\n",
    "          num_epochs = 1500, minibatch_size = 32, print_cost = True):\n",
    "    \"\"\"\n",
    "    Implements a three-layer tensorflow neural network: LINEAR->RELU->LINEAR->RELU->LINEAR->SOFTMAX.\n",
    "    \n",
    "    Arguments:\n",
    "        X_train -- training set, of shape (input size, number of training examples)\n",
    "        Y_train -- test set, of shape (output size, number of training examples)\n",
    "        X_test -- training set, of shape (input size, number of training examples)\n",
    "        Y_test -- test set, of shape (output size, number of test examples)\n",
    "        learning_rate -- learning rate of the optimization\n",
    "        num_epochs -- number of epochs of the optimization loop\n",
    "        minibatch_size -- size of a minibatch\n",
    "        print_cost -- True to print the cost every 100 epochs\n",
    "    \n",
    "    Returns:\n",
    "        parameters -- parameters learnt by the model. They can then be used to predict.\n",
    "    \"\"\"\n",
    "    \n",
    "    ops.reset_default_graph()                         # to be able to rerun the model without overwriting tf variables\n",
    "    tf.set_random_seed(1)                             # to keep consistent results\n",
    "    seed = 3                                          # to keep consistent results\n",
    "    (n_x, m) = X_train.shape                          # (n_x: input size, m : number of examples in the train set)\n",
    "    n_y = Y_train.shape[0]                            # n_y : output size\n",
    "    costs = []                                        # To keep track of the cost\n",
    "    \n",
    "    X, Y = create_placeholders(n_x, n_y) # Create Placeholders of shape (n_x, n_y)\n",
    "\n",
    "    parameters = initialize_parameters(n_x, n_y, hidden_neurons) # Initialize parameters\n",
    "    Z3 = forward_propagation(X, parameters, pkeep=1) # Forward propagation: Build the forward propagation in the tensorflow graph\n",
    "    cost = cost = compute_cost(Z3, Y) # Cost function: Add cost function to tensorflow graph\n",
    "    \n",
    "    # Backpropagation: Define the tensorflow optimizer. Use an AdamOptimizer.\n",
    "    optimizer = tf.train.GradientDescentOptimizer(learning_rate = learning_rate).minimize(cost) \n",
    "    init = tf.global_variables_initializer()     # Initialize all the variables\n",
    "\n",
    "    # Start the session to compute the tensorflow graph\n",
    "    with tf.Session() as sess:\n",
    "         \n",
    "        sess.run(init)     # Run the initialization\n",
    "        for epoch in range(num_epochs): # Do the training loop\n",
    "\n",
    "            epoch_cost = 0.             \n",
    "            num_minibatches = int(m / minibatch_size) # number of minibatches of size minibatch_size in the train set\n",
    "            seed = seed + 1\n",
    "            \n",
    "            _ , minibatch_cost = sess.run([optimizer, cost], feed_dict={X: X_train, Y: Y_train})\n",
    "            epoch_cost += minibatch_cost / num_minibatches\n",
    "\n",
    "            # Print the cost every epoch\n",
    "            if print_cost == True and epoch % 100 == 0:\n",
    "                print (\"Cost after epoch %i: %f\" % (epoch, epoch_cost))\n",
    "            costs.append(epoch_cost)\n",
    "                \n",
    "        plotting(costs, learning_rate)\n",
    "\n",
    "        # lets save the parameters in a variable\n",
    "        parameters = sess.run(parameters)\n",
    "        print (\"Parameters have been trained!\")\n",
    "\n",
    "        # Calculate the correct predictions\n",
    "        correct_prediction = tf.equal(tf.argmax(Z3), tf.argmax(Y))\n",
    "\n",
    "        # Calculate accuracy on the test set\n",
    "        accuracy = tf.reduce_mean(tf.cast(correct_prediction, \"float\"))\n",
    "\n",
    "        print (\"Train Accuracy:\", accuracy.eval({X: X_train, Y: Y_train}))\n",
    "        print (\"Test Accuracy:\", accuracy.eval({X: X_test, Y: Y_test}))\n",
    "        \n",
    "        return parameters, correct_prediction"
   ]
  },
  {
   "cell_type": "code",
   "execution_count": 14,
   "metadata": {},
   "outputs": [
    {
     "data": {
      "image/png": "[encoded data removed]",
      "text/plain": [
       "<matplotlib.figure.Figure at 0x11012b00>"
      ]
     },
     "metadata": {},
     "output_type": "display_data"
    },
    {
     "name": "stdout",
     "output_type": "stream",
     "text": [
      "Parameters have been trained!\n",
      "Train Accuracy: 0.971429\n",
      "Test Accuracy: 1.0\n"
     ]
    }
   ],
   "source": [
    "parameters = model(X_train, Y_train, X_test, Y_test, hidden_neurons =[30,10], num_epochs = 100000, print_cost = False)"
   ]
  },
  {
   "cell_type": "markdown",
   "metadata": {},
   "source": [
    "## Using Polynomial Features"
   ]
  },
  {
   "cell_type": "code",
   "execution_count": 25,
   "metadata": {},
   "outputs": [
    {
     "name": "stdout",
     "output_type": "stream",
     "text": [
      "Size of:\n",
      "- Training-set:\t\t(15, 105)\n",
      "- Test-set:\t\t(15, 45)\n"
     ]
    }
   ],
   "source": [
    "train, test = train_test_split(iris, test_size = 0.3) # split into train and test\n",
    "X_train = train[['SepalLengthCm','SepalWidthCm','PetalLengthCm','PetalWidthCm']] # training data features\n",
    "Y_train=train.Species # target of training data\n",
    "X_test= test[['SepalLengthCm','SepalWidthCm','PetalLengthCm','PetalWidthCm']] # test data features\n",
    "Y_test =test.Species   # target of test data\n",
    "\n",
    "# polynomial features degree-n polynomial features are [1, a, b, a^2, ab, b^2].\n",
    "poly = PolynomialFeatures(2)\n",
    "\n",
    "X_train = poly.fit_transform(np.array(X_train, dtype=np.float32)).T\n",
    "Y_train = one_hot_matrix(np.array(Y_train,dtype=np.float32), C = 3)\n",
    "X_test  = poly.fit_transform(np.array(X_test,dtype=np.float32)).T\n",
    "Y_test = one_hot_matrix(np.array(Y_test,dtype=np.float32), C = 3)\n",
    "\n",
    "m_train = X_train.shape\n",
    "m_test = X_test.shape\n",
    "\n",
    "print(\"Size of:\")\n",
    "print(\"- Training-set:\\t\\t{}\".format(m_train))\n",
    "print(\"- Test-set:\\t\\t{}\".format(m_test))"
   ]
  },
  {
   "cell_type": "code",
   "execution_count": 32,
   "metadata": {},
   "outputs": [
    {
     "data": {
      "image/png": "[encoded data removed]",
      "text/plain": [
       "<matplotlib.figure.Figure at 0x112a0e10>"
      ]
     },
     "metadata": {},
     "output_type": "display_data"
    },
    {
     "name": "stdout",
     "output_type": "stream",
     "text": [
      "Parameters have been trained!\n",
      "Train Accuracy: 1.0\n",
      "Test Accuracy: 0.911111\n"
     ]
    }
   ],
   "source": [
    "(parameters, prediction) = model(X_train, Y_train, X_test, Y_test, hidden_neurons =[40, 30], num_epochs = 30000, print_cost = False)"
   ]
  },
  {
   "cell_type": "code",
   "execution_count": null,
   "metadata": {
    "collapsed": true
   },
   "outputs": [],
   "source": [
    "with tf.Session() as sess:\n",
    "    print(sess.run(tf.argmax(forward_propagation(X_test, parameters, pkeep=1))))\n",
    "    print(sess.run(tf.argmax(Y_test)))"
   ]
  }
 ],
 "metadata": {
  "kernelspec": {
   "display_name": "Python 3",
   "language": "python",
   "name": "python3"
  },
  "language_info": {
   "codemirror_mode": {
    "name": "ipython",
    "version": 3
   },
   "file_extension": ".py",
   "mimetype": "text/x-python",
   "name": "python",
   "nbconvert_exporter": "python",
   "pygments_lexer": "ipython3",
   "version": "3.6.1"
  }
 },
 "nbformat": 4,
 "nbformat_minor": 2
}
